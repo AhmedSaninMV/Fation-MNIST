{
  "nbformat": 4,
  "nbformat_minor": 0,
  "metadata": {
    "colab": {
      "name": "DNNmodels.ipynb",
      "provenance": []
    },
    "kernelspec": {
      "name": "python3",
      "display_name": "Python 3"
    },
    "accelerator": "GPU"
  },
  "cells": [
    {
      "cell_type": "code",
      "metadata": {
        "id": "9_9-dxpuiLyG",
        "colab_type": "code",
        "outputId": "4cfc0b32-83a0-4ff5-8fd2-f3063e3dd24c",
        "colab": {
          "base_uri": "https://localhost:8080/",
          "height": 216
        }
      },
      "source": [
        "from keras.datasets import fashion_mnist\n",
        "((train_images, train_labels), (test_images, test_labels)) = fashion_mnist.load_data()"
      ],
      "execution_count": 1,
      "outputs": [
        {
          "output_type": "stream",
          "text": [
            "Using TensorFlow backend.\n"
          ],
          "name": "stderr"
        },
        {
          "output_type": "display_data",
          "data": {
            "text/html": [
              "<p style=\"color: red;\">\n",
              "The default version of TensorFlow in Colab will soon switch to TensorFlow 2.x.<br>\n",
              "We recommend you <a href=\"https://www.tensorflow.org/guide/migrate\" target=\"_blank\">upgrade</a> now \n",
              "or ensure your notebook will continue to use TensorFlow 1.x via the <code>%tensorflow_version 1.x</code> magic:\n",
              "<a href=\"https://colab.research.google.com/notebooks/tensorflow_version.ipynb\" target=\"_blank\">more info</a>.</p>\n"
            ],
            "text/plain": [
              "<IPython.core.display.HTML object>"
            ]
          },
          "metadata": {
            "tags": []
          }
        },
        {
          "output_type": "stream",
          "text": [
            "Downloading data from http://fashion-mnist.s3-website.eu-central-1.amazonaws.com/train-labels-idx1-ubyte.gz\n",
            "32768/29515 [=================================] - 0s 4us/step\n",
            "Downloading data from http://fashion-mnist.s3-website.eu-central-1.amazonaws.com/train-images-idx3-ubyte.gz\n",
            "26427392/26421880 [==============================] - 2s 0us/step\n",
            "Downloading data from http://fashion-mnist.s3-website.eu-central-1.amazonaws.com/t10k-labels-idx1-ubyte.gz\n",
            "8192/5148 [===============================================] - 0s 0us/step\n",
            "Downloading data from http://fashion-mnist.s3-website.eu-central-1.amazonaws.com/t10k-images-idx3-ubyte.gz\n",
            "4423680/4422102 [==============================] - 1s 0us/step\n"
          ],
          "name": "stdout"
        }
      ]
    },
    {
      "cell_type": "code",
      "metadata": {
        "id": "U_s-pq2o4Idz",
        "colab_type": "code",
        "outputId": "e06ea534-7d5c-472f-c0f1-e8efd21d676d",
        "colab": {
          "base_uri": "https://localhost:8080/",
          "height": 71
        }
      },
      "source": [
        "\n",
        "# import noise layer\n",
        "from keras.layers import GaussianNoise\n",
        "# define noise layer\n",
        "layer = GaussianNoise(0.1)"
      ],
      "execution_count": 2,
      "outputs": [
        {
          "output_type": "stream",
          "text": [
            "WARNING:tensorflow:From /usr/local/lib/python3.6/dist-packages/keras/backend/tensorflow_backend.py:66: The name tf.get_default_graph is deprecated. Please use tf.compat.v1.get_default_graph instead.\n",
            "\n"
          ],
          "name": "stdout"
        }
      ]
    },
    {
      "cell_type": "code",
      "metadata": {
        "id": "Y4rzGyKktRe0",
        "colab_type": "code",
        "colab": {}
      },
      "source": [
        "from keras.models import Sequential\n",
        "from keras.layers import Dense\n",
        "import matplotlib.pyplot as plt\n",
        "import numpy"
      ],
      "execution_count": 0,
      "outputs": []
    },
    {
      "cell_type": "code",
      "metadata": {
        "id": "biGwZEvtPoET",
        "colab_type": "code",
        "colab": {}
      },
      "source": [
        "from tensorflow import keras\n",
        "import tensorflow as tf"
      ],
      "execution_count": 0,
      "outputs": []
    },
    {
      "cell_type": "code",
      "metadata": {
        "id": "GEJyGmxGOy56",
        "colab_type": "code",
        "colab": {}
      },
      "source": [
        "import matplotlib.pyplot as plt\n"
      ],
      "execution_count": 0,
      "outputs": []
    },
    {
      "cell_type": "code",
      "metadata": {
        "id": "wKK0w2QXimRP",
        "colab_type": "code",
        "colab": {}
      },
      "source": [
        "class_names = ['T-shirt/top', 'Trouser', 'Pullover', 'Dress', 'Coat', 'Sandal', 'Shirt', 'Sneaker', 'Bag', 'Ankle boot']"
      ],
      "execution_count": 0,
      "outputs": []
    },
    {
      "cell_type": "code",
      "metadata": {
        "id": "T_dVZ4WZN-BR",
        "colab_type": "code",
        "outputId": "64a3a6c3-bf55-4eac-dfa7-6c450e24fc82",
        "colab": {
          "base_uri": "https://localhost:8080/",
          "height": 51
        }
      },
      "source": [
        "print(\"train_images:\", train_images.shape)\n",
        "print(\"test_images:\", test_images.shape)\n",
        "train_images: (60000, 28, 28)\n",
        "test_images: (10000, 28, 28)"
      ],
      "execution_count": 7,
      "outputs": [
        {
          "output_type": "stream",
          "text": [
            "train_images: (60000, 28, 28)\n",
            "test_images: (10000, 28, 28)\n"
          ],
          "name": "stdout"
        }
      ]
    },
    {
      "cell_type": "code",
      "metadata": {
        "id": "zc7krIyTOoT8",
        "colab_type": "code",
        "outputId": "573c6756-bb44-4590-c6b4-281349f46618",
        "colab": {
          "base_uri": "https://localhost:8080/",
          "height": 265
        }
      },
      "source": [
        "# Visualize the first image from the training dataset\n",
        "plt.figure()\n",
        "plt.imshow(train_images[4])\n",
        "plt.colorbar()\n",
        "plt.grid(False)"
      ],
      "execution_count": 8,
      "outputs": [
        {
          "output_type": "display_data",
          "data": {
            "image/png": "[encoded data removed]",
            "text/plain": [
              "<Figure size 432x288 with 2 Axes>"
            ]
          },
          "metadata": {
            "tags": []
          }
        }
      ]
    },
    {
      "cell_type": "code",
      "metadata": {
        "id": "blUz8HhJO592",
        "colab_type": "code",
        "colab": {}
      },
      "source": [
        "# scale the values to a range of 0 to 1 of both data sets\n",
        "train_images = train_images / 255.0\n",
        "test_images = test_images / 255.0"
      ],
      "execution_count": 0,
      "outputs": []
    },
    {
      "cell_type": "code",
      "metadata": {
        "id": "rTv72DeCPJLg",
        "colab_type": "code",
        "outputId": "26fd8baf-9019-4f9f-f6e2-1c259c79f033",
        "colab": {
          "base_uri": "https://localhost:8080/",
          "height": 360
        }
      },
      "source": [
        "# Model a simple 3-layer neural network\n",
        "model_3 = keras.Sequential([\n",
        "    keras.layers.Flatten(input_shape=(28,28)),keras.layers.GaussianNoise(0.5),\n",
        "    keras.layers.Dense(128, activation=tf.nn.relu),\n",
        "    keras.layers.Dense(10, activation=tf.nn.softmax)\n",
        "])\n",
        "model_3.summary()"
      ],
      "execution_count": 10,
      "outputs": [
        {
          "output_type": "stream",
          "text": [
            "WARNING:tensorflow:From /usr/local/lib/python3.6/dist-packages/tensorflow_core/python/ops/resource_variable_ops.py:1630: calling BaseResourceVariable.__init__ (from tensorflow.python.ops.resource_variable_ops) with constraint is deprecated and will be removed in a future version.\n",
            "Instructions for updating:\n",
            "If using Keras pass *_constraint arguments to layers.\n",
            "Model: \"sequential\"\n",
            "_________________________________________________________________\n",
            "Layer (type)                 Output Shape              Param #   \n",
            "=================================================================\n",
            "flatten (Flatten)            (None, 784)               0         \n",
            "_________________________________________________________________\n",
            "gaussian_noise (GaussianNois (None, 784)               0         \n",
            "_________________________________________________________________\n",
            "dense (Dense)                (None, 128)               100480    \n",
            "_________________________________________________________________\n",
            "dense_1 (Dense)              (None, 10)                1290      \n",
            "=================================================================\n",
            "Total params: 101,770\n",
            "Trainable params: 101,770\n",
            "Non-trainable params: 0\n",
            "_________________________________________________________________\n"
          ],
          "name": "stdout"
        }
      ]
    },
    {
      "cell_type": "code",
      "metadata": {
        "id": "seXHmuF8Pnca",
        "colab_type": "code",
        "colab": {}
      },
      "source": [
        "model_3.compile(optimizer='adam',\n",
        "              loss='sparse_categorical_crossentropy',\n",
        "              metrics=['accuracy'])"
      ],
      "execution_count": 0,
      "outputs": []
    },
    {
      "cell_type": "code",
      "metadata": {
        "id": "4GarAyyttQeK",
        "colab_type": "code",
        "outputId": "e968639b-8d77-4b07-a62c-a09a4b7ed33d",
        "colab": {
          "base_uri": "https://localhost:8080/",
          "height": 1000
        }
      },
      "source": [
        "history = model_3.fit(train_images, train_labels, validation_split=0,validation_data = (test_images,test_labels), epochs=20)\n",
        "# list all data in history\n",
        "print(history.history.keys())\n",
        "# summarize history for accuracy\n",
        "plt.plot(history.history['acc'])\n",
        "plt.plot(history.history['val_acc'])\n",
        "plt.title('model accuracy')\n",
        "plt.ylabel('accuracy')\n",
        "plt.xlabel('epoch')\n",
        "plt.legend(['train', 'test'], loc='upper left')\n",
        "plt.show()\n",
        "# summarize history for loss\n",
        "plt.plot(history.history['loss'])\n",
        "plt.plot(history.history['val_loss'])\n",
        "plt.title('model loss')\n",
        "plt.ylabel('loss')\n",
        "plt.xlabel('epoch')\n",
        "plt.legend(['train', 'test'], loc='upper left')\n",
        "plt.show()"
      ],
      "execution_count": 12,
      "outputs": [
        {
          "output_type": "stream",
          "text": [
            "Train on 60000 samples, validate on 10000 samples\n",
            "Epoch 1/20\n",
            "60000/60000 [==============================] - 6s 92us/sample - loss: 0.6714 - acc: 0.7542 - val_loss: 0.5195 - val_acc: 0.8086\n",
            "Epoch 2/20\n",
            "60000/60000 [==============================] - 4s 67us/sample - loss: 0.5519 - acc: 0.7920 - val_loss: 0.4680 - val_acc: 0.8323\n",
            "Epoch 3/20\n",
            "60000/60000 [==============================] - 4s 65us/sample - loss: 0.5205 - acc: 0.8048 - val_loss: 0.4460 - val_acc: 0.8403\n",
            "Epoch 4/20\n",
            "60000/60000 [==============================] - 4s 63us/sample - loss: 0.5046 - acc: 0.8103 - val_loss: 0.4315 - val_acc: 0.8476\n",
            "Epoch 5/20\n",
            "60000/60000 [==============================] - 4s 65us/sample - loss: 0.4911 - acc: 0.8151 - val_loss: 0.4197 - val_acc: 0.8453\n",
            "Epoch 6/20\n",
            "60000/60000 [==============================] - 4s 70us/sample - loss: 0.4859 - acc: 0.8181 - val_loss: 0.4187 - val_acc: 0.8457\n",
            "Epoch 7/20\n",
            "60000/60000 [==============================] - 4s 66us/sample - loss: 0.4757 - acc: 0.8207 - val_loss: 0.4069 - val_acc: 0.8504\n",
            "Epoch 8/20\n",
            "60000/60000 [==============================] - 4s 65us/sample - loss: 0.4734 - acc: 0.8215 - val_loss: 0.4001 - val_acc: 0.8555\n",
            "Epoch 9/20\n",
            "60000/60000 [==============================] - 4s 69us/sample - loss: 0.4688 - acc: 0.8245 - val_loss: 0.4122 - val_acc: 0.8453\n",
            "Epoch 10/20\n",
            "60000/60000 [==============================] - 4s 65us/sample - loss: 0.4613 - acc: 0.8251 - val_loss: 0.4022 - val_acc: 0.8526\n",
            "Epoch 11/20\n",
            "60000/60000 [==============================] - 4s 67us/sample - loss: 0.4582 - acc: 0.8266 - val_loss: 0.4141 - val_acc: 0.8444\n",
            "Epoch 12/20\n",
            "60000/60000 [==============================] - 4s 66us/sample - loss: 0.4584 - acc: 0.8275 - val_loss: 0.3831 - val_acc: 0.8598\n",
            "Epoch 13/20\n",
            "60000/60000 [==============================] - 4s 65us/sample - loss: 0.4529 - acc: 0.8305 - val_loss: 0.3927 - val_acc: 0.8535\n",
            "Epoch 14/20\n",
            "60000/60000 [==============================] - 4s 66us/sample - loss: 0.4550 - acc: 0.8288 - val_loss: 0.3906 - val_acc: 0.8592\n",
            "Epoch 15/20\n",
            "60000/60000 [==============================] - 4s 66us/sample - loss: 0.4507 - acc: 0.8290 - val_loss: 0.3868 - val_acc: 0.8578\n",
            "Epoch 16/20\n",
            "60000/60000 [==============================] - 4s 64us/sample - loss: 0.4485 - acc: 0.8318 - val_loss: 0.3878 - val_acc: 0.8569\n",
            "Epoch 17/20\n",
            "60000/60000 [==============================] - 4s 65us/sample - loss: 0.4431 - acc: 0.8341 - val_loss: 0.3988 - val_acc: 0.8499\n",
            "Epoch 18/20\n",
            "60000/60000 [==============================] - 4s 65us/sample - loss: 0.4437 - acc: 0.8328 - val_loss: 0.3774 - val_acc: 0.8630\n",
            "Epoch 19/20\n",
            "60000/60000 [==============================] - 4s 63us/sample - loss: 0.4437 - acc: 0.8322 - val_loss: 0.3793 - val_acc: 0.8597\n",
            "Epoch 20/20\n",
            "60000/60000 [==============================] - 4s 63us/sample - loss: 0.4433 - acc: 0.8307 - val_loss: 0.3905 - val_acc: 0.8612\n",
            "dict_keys(['loss', 'acc', 'val_loss', 'val_acc'])\n"
          ],
          "name": "stdout"
        },
        {
          "output_type": "display_data",
          "data": {
            "image/png": "[encoded data removed]",
            "text/plain": [
              "<Figure size 432x288 with 1 Axes>"
            ]
          },
          "metadata": {
            "tags": []
          }
        },
        {
          "output_type": "display_data",
          "data": {
            "image/png": "[encoded data removed]",
            "text/plain": [
              "<Figure size 432x288 with 1 Axes>"
            ]
          },
          "metadata": {
            "tags": []
          }
        }
      ]
    },
    {
      "cell_type": "code",
      "metadata": {
        "id": "W4_9_mj5G8J9",
        "colab_type": "code",
        "colab": {}
      },
      "source": [
        ""
      ],
      "execution_count": 0,
      "outputs": []
    },
    {
      "cell_type": "code",
      "metadata": {
        "id": "_y2RXwSzQQWn",
        "colab_type": "code",
        "outputId": "00273534-618b-4649-89a1-6310c29acb0d",
        "colab": {
          "base_uri": "https://localhost:8080/",
          "height": 731
        }
      },
      "source": [
        "model_3.fit(train_images, train_labels, epochs=20, validation_split=0.2)"
      ],
      "execution_count": 13,
      "outputs": [
        {
          "output_type": "stream",
          "text": [
            "Train on 48000 samples, validate on 12000 samples\n",
            "Epoch 1/20\n",
            "48000/48000 [==============================] - 3s 72us/sample - loss: 0.4367 - acc: 0.8346 - val_loss: 0.3421 - val_acc: 0.8770\n",
            "Epoch 2/20\n",
            "48000/48000 [==============================] - 3s 71us/sample - loss: 0.4353 - acc: 0.8386 - val_loss: 0.3373 - val_acc: 0.8747\n",
            "Epoch 3/20\n",
            "48000/48000 [==============================] - 3s 70us/sample - loss: 0.4377 - acc: 0.8342 - val_loss: 0.3545 - val_acc: 0.8683\n",
            "Epoch 4/20\n",
            "48000/48000 [==============================] - 3s 70us/sample - loss: 0.4312 - acc: 0.8382 - val_loss: 0.3485 - val_acc: 0.8688\n",
            "Epoch 5/20\n",
            "48000/48000 [==============================] - 3s 72us/sample - loss: 0.4352 - acc: 0.8364 - val_loss: 0.3462 - val_acc: 0.8732\n",
            "Epoch 6/20\n",
            "48000/48000 [==============================] - 3s 68us/sample - loss: 0.4285 - acc: 0.8387 - val_loss: 0.3564 - val_acc: 0.8701\n",
            "Epoch 7/20\n",
            "48000/48000 [==============================] - 3s 72us/sample - loss: 0.4341 - acc: 0.8374 - val_loss: 0.3428 - val_acc: 0.8748\n",
            "Epoch 8/20\n",
            "48000/48000 [==============================] - 3s 67us/sample - loss: 0.4299 - acc: 0.8374 - val_loss: 0.3474 - val_acc: 0.8741\n",
            "Epoch 9/20\n",
            "48000/48000 [==============================] - 3s 70us/sample - loss: 0.4337 - acc: 0.8364 - val_loss: 0.3472 - val_acc: 0.8771\n",
            "Epoch 10/20\n",
            "48000/48000 [==============================] - 3s 68us/sample - loss: 0.4261 - acc: 0.8386 - val_loss: 0.3441 - val_acc: 0.8734\n",
            "Epoch 11/20\n",
            "48000/48000 [==============================] - 3s 67us/sample - loss: 0.4276 - acc: 0.8397 - val_loss: 0.3496 - val_acc: 0.8699\n",
            "Epoch 12/20\n",
            "48000/48000 [==============================] - 3s 68us/sample - loss: 0.4265 - acc: 0.8384 - val_loss: 0.3502 - val_acc: 0.8733\n",
            "Epoch 13/20\n",
            "48000/48000 [==============================] - 3s 69us/sample - loss: 0.4262 - acc: 0.8399 - val_loss: 0.3545 - val_acc: 0.8723\n",
            "Epoch 14/20\n",
            "48000/48000 [==============================] - 3s 69us/sample - loss: 0.4303 - acc: 0.8406 - val_loss: 0.3442 - val_acc: 0.8767\n",
            "Epoch 15/20\n",
            "48000/48000 [==============================] - 3s 69us/sample - loss: 0.4260 - acc: 0.8399 - val_loss: 0.3482 - val_acc: 0.8735\n",
            "Epoch 16/20\n",
            "48000/48000 [==============================] - 3s 68us/sample - loss: 0.4308 - acc: 0.8378 - val_loss: 0.3382 - val_acc: 0.8773\n",
            "Epoch 17/20\n",
            "48000/48000 [==============================] - 3s 68us/sample - loss: 0.4218 - acc: 0.8407 - val_loss: 0.3498 - val_acc: 0.8745\n",
            "Epoch 18/20\n",
            "48000/48000 [==============================] - 3s 70us/sample - loss: 0.4238 - acc: 0.8404 - val_loss: 0.3434 - val_acc: 0.8758\n",
            "Epoch 19/20\n",
            "48000/48000 [==============================] - 3s 72us/sample - loss: 0.4223 - acc: 0.8399 - val_loss: 0.3426 - val_acc: 0.8768\n",
            "Epoch 20/20\n",
            "48000/48000 [==============================] - 3s 71us/sample - loss: 0.4240 - acc: 0.8395 - val_loss: 0.3473 - val_acc: 0.8717\n"
          ],
          "name": "stdout"
        },
        {
          "output_type": "execute_result",
          "data": {
            "text/plain": [
              "<tensorflow.python.keras.callbacks.History at 0x7fc3306e1b70>"
            ]
          },
          "metadata": {
            "tags": []
          },
          "execution_count": 13
        }
      ]
    },
    {
      "cell_type": "code",
      "metadata": {
        "id": "Nr6-bTguQWNA",
        "colab_type": "code",
        "outputId": "515d87a1-4a26-4ee0-e7c8-7cd0ff7defb2",
        "colab": {
          "base_uri": "https://localhost:8080/",
          "height": 34
        }
      },
      "source": [
        "test_loss, test_acc = model_3.evaluate(test_images, test_labels)"
      ],
      "execution_count": 14,
      "outputs": [
        {
          "output_type": "stream",
          "text": [
            "10000/10000 [==============================] - 0s 43us/sample - loss: 0.3734 - acc: 0.8664\n"
          ],
          "name": "stdout"
        }
      ]
    },
    {
      "cell_type": "code",
      "metadata": {
        "id": "PMT0Tp-1FyxD",
        "colab_type": "code",
        "colab": {}
      },
      "source": [
        "import numpy as np\n",
        "y_pred = model_3.predict_classes(test_images)\n",
        "con_mat = tf.confusion_matrix(labels=test_labels, predictions=y_pred)"
      ],
      "execution_count": 0,
      "outputs": []
    },
    {
      "cell_type": "code",
      "metadata": {
        "id": "i4WAAmBMGfpo",
        "colab_type": "code",
        "colab": {
          "base_uri": "https://localhost:8080/",
          "height": 187
        },
        "outputId": "38a51b80-5ce3-46ec-f7fc-a62d36b88b46"
      },
      "source": [
        "sess = tf.Session()\n",
        "with sess.as_default():\n",
        "        print(sess.run(con_mat))"
      ],
      "execution_count": 16,
      "outputs": [
        {
          "output_type": "stream",
          "text": [
            "[[851   1  18  34   4   0  81   1   9   1]\n",
            " [  3 963   2  27   2   0   2   0   1   0]\n",
            " [ 16   1 767  18 119   0  77   0   2   0]\n",
            " [ 26   2   5 928  14   0  21   0   4   0]\n",
            " [  1   0  72  70 797   0  58   0   2   0]\n",
            " [  0   0   0   1   0 868   0  86   0  45]\n",
            " [166   0 101  39  73   0 604   0  17   0]\n",
            " [  0   0   0   0   0   6   0 952   0  42]\n",
            " [  3   0   4   5   4   0   2   7 975   0]\n",
            " [  1   0   0   0   0   2   0  38   0 959]]\n"
          ],
          "name": "stdout"
        }
      ]
    },
    {
      "cell_type": "code",
      "metadata": {
        "id": "BhyX2iGfG85R",
        "colab_type": "code",
        "colab": {}
      },
      "source": [
        "model_3.save('DNN.h5')"
      ],
      "execution_count": 0,
      "outputs": []
    },
    {
      "cell_type": "code",
      "metadata": {
        "id": "7Xqo-TdW9bEd",
        "colab_type": "code",
        "colab": {}
      },
      "source": [
        "from platform import python_version\n",
        "import tensorflow as tf\n",
        "from tensorflow import keras\n",
        "import numpy as np\n",
        "from tensorflow.keras.models import Sequential\n",
        "from tensorflow.keras.layers import Dense,Activation,Dropout,Flatten\n",
        "from tensorflow.keras.layers import Conv2D, MaxPooling2D,BatchNormalization\n",
        "from tensorflow.keras.optimizers import Adam\n",
        "from tensorflow.keras.callbacks import Callback,EarlyStopping\n",
        "from tensorflow.keras.datasets import fashion_mnist\n",
        "from tensorflow.keras import backend as K\n"
      ],
      "execution_count": 0,
      "outputs": []
    },
    {
      "cell_type": "code",
      "metadata": {
        "id": "tJ1XJyAJvaGG",
        "colab_type": "code",
        "colab": {}
      },
      "source": [
        "row = 28\n",
        "col = 28\n",
        "N_class = 10\n",
        "model = Sequential()\n",
        "\n",
        "model.add(Conv2D(32, (3, 3), input_shape=(row,col , 1)))\n",
        "model.add(Activation('relu'))\n",
        "model.add(BatchNormalization(axis=1))\n",
        "model.add(Conv2D(32, (3, 3)))\n",
        "model.add(Activation('relu'))\n",
        "model.add(BatchNormalization(axis=1))\n",
        "model.add(MaxPooling2D(pool_size=(2, 2)))\n",
        "model.add(Dropout(0.5))\n",
        "\n",
        "model.add(Conv2D(64, (3, 3)))\n",
        "model.add(Activation('relu'))\n",
        "model.add(BatchNormalization(axis=1))\n",
        "model.add(Conv2D(64, (3, 3)))\n",
        "model.add(Activation('relu'))\n",
        "model.add(BatchNormalization(axis=1))\n",
        "model.add(MaxPooling2D(pool_size=(2, 2)))\n",
        "model.add(Dropout(0.5))\n",
        "\n",
        "model.add(Conv2D(64, (3, 3)))\n",
        "model.add(Activation('relu'))\n",
        "model.add(BatchNormalization(axis=1))\n",
        "model.add(MaxPooling2D(pool_size=(2, 2)))\n",
        "model.add(Dropout(0.5))\n",
        "\n",
        "model.add(Flatten())\n",
        "\n",
        "model.add(Dense(128))\n",
        "model.add(Activation('relu'))\n",
        "\n",
        "model.add(Dense(128))\n",
        "model.add(Activation('relu'))\n",
        "\n",
        "model.add(Dense(N_class))\n",
        "model.add(Activation('softmax'))\n"
      ],
      "execution_count": 0,
      "outputs": []
    },
    {
      "cell_type": "code",
      "metadata": {
        "id": "YuTVu8IKvaQ7",
        "colab_type": "code",
        "outputId": "dfd4c9a3-efba-4957-f80b-554a5d7e8ad8",
        "colab": {
          "base_uri": "https://localhost:8080/",
          "height": 130
        }
      },
      "source": [
        "›\n",
        "model.compile(loss='categorical_crossentropy',optimizer='Adam',metrics=['accuracy'])\n",
        "\n",
        "callbacks = [EarlyStopping(monitor='accuracy',verbose=1)]\n",
        "\n",
        "model.fit(train_images, train_labels, epochs=30, validation_split=0.2)\n",
        "model.save('CNN.h5')"
      ],
      "execution_count": 20,
      "outputs": [
        {
          "output_type": "error",
          "ename": "SyntaxError",
          "evalue": "ignored",
          "traceback": [
            "\u001b[0;36m  File \u001b[0;32m\"<ipython-input-20-936f57f802fa>\"\u001b[0;36m, line \u001b[0;32m1\u001b[0m\n\u001b[0;31m    ›\u001b[0m\n\u001b[0m    ^\u001b[0m\n\u001b[0;31mSyntaxError\u001b[0m\u001b[0;31m:\u001b[0m invalid character in identifier\n"
          ]
        }
      ]
    },
    {
      "cell_type": "code",
      "metadata": {
        "id": "ZHYCHXLvvaak",
        "colab_type": "code",
        "colab": {}
      },
      "source": [
        "test_loss, test_acc = model.evaluate(test_images, test_labels)"
      ],
      "execution_count": 0,
      "outputs": []
    },
    {
      "cell_type": "code",
      "metadata": {
        "id": "saxrGQvCvaps",
        "colab_type": "code",
        "colab": {}
      },
      "source": [
        ""
      ],
      "execution_count": 0,
      "outputs": []
    }
  ]
}